{
  "nbformat": 4,
  "nbformat_minor": 0,
  "metadata": {
    "colab": {
      "provenance": [],
      "authorship_tag": "ABX9TyO6aC9GN1lyQL03B6N642th",
      "include_colab_link": true
    },
    "kernelspec": {
      "name": "python3",
      "display_name": "Python 3"
    },
    "language_info": {
      "name": "python"
    }
  },
  "cells": [
    {
      "cell_type": "markdown",
      "metadata": {
        "id": "view-in-github",
        "colab_type": "text"
      },
      "source": [
        "<a href=\"https://colab.research.google.com/github/joaop-n12/Machine_Learning/blob/main/Ex_Aula01.ipynb\" target=\"_parent\"><img src=\"https://colab.research.google.com/assets/colab-badge.svg\" alt=\"Open In Colab\"/></a>"
      ]
    },
    {
      "cell_type": "code",
      "execution_count": null,
      "metadata": {
        "colab": {
          "base_uri": "https://localhost:8080/"
        },
        "id": "qR5caXSKNVzI",
        "outputId": "1a5f8056-10dd-4987-9275-59d4317433b4"
      },
      "outputs": [
        {
          "output_type": "stream",
          "name": "stdout",
          "text": [
            "Shapiro: ambas amostras seguem distribuição normal\n",
            "Levene: tem variância igual\n",
            "P-valor:  0.05098627840008265\n",
            "Estatística-t:  -2.0189617778806985\n",
            "Rejeito H0, as médias são diferentes com significância de 10%\n"
          ]
        }
      ],
      "source": [
        "import numpy as np\n",
        "from scipy import stats\n",
        "import pandas as pd\n",
        "paciente1 = [794.1, 716.9, 993, 724.7, 760.9, 908.2, 659.3, 690.8, 768.7, 717.3, 630.7, 729.5, 714.1, 810.3, 583.5, 679.9, 865.1]\n",
        "paciente2 = [976.4, 656.4, 861.2, 706.8, 718.5, 717.1, 759.8, 894.6, 867.6, 805.6, 765.4, 800.3, 789.9, 875.3, 740, 795.2, 823.8, 791.7, 948.5, 791.7, 948.5]\n",
        "\n",
        "alpha = 0.10\n",
        "\n",
        "estatistica_t, p_valor_1 = stats.shapiro(paciente1)\n",
        "estatistica_t, p_valor_2 = stats.shapiro(paciente2)\n",
        "if (p_valor_1 >= alpha and p_valor_2 >= alpha):\n",
        "\tprint(\"Shapiro: ambas amostras seguem distribuição normal\")\n",
        "\n",
        "  # faço teste de Levene com as duas amostras\n",
        "\testatistica_t, p_valor_1 = stats.levene(paciente1, paciente2)\n",
        "\n",
        "  # H0: os dados tem variância igual\n",
        "\t# H1: os dados tem variância diferente\n",
        "\tif (p_valor_1 >= alpha):\n",
        "\t\tprint(\"Levene: tem variância igual\")\n",
        "\n",
        "\t\testatistica_t, p_valor = stats.ttest_ind(paciente1, paciente2)\n",
        "\n",
        "\t\t# modelar o teste de hipóteses\n",
        "\t\t# H0: média1 == média2\n",
        "\t\t# H1: média1 != média2\n",
        "\t\tprint(\"P-valor: \", p_valor)\n",
        "\t\tprint(\"Estatística-t: \", estatistica_t)\n",
        "\n",
        "\t\tif (p_valor < alpha):\n",
        "\t\t\tprint(\"Rejeito H0, as médias são diferentes com significância de 10%\")\n",
        "\t\telse:\n",
        "\t\t\tprint(\"Aceito H0, as médias são iguais com significância de 10%\")\n",
        "\telse:\n",
        "\t\tprint(\"Levene: tem HETEROCEDASTICIDADE\")\n",
        "else:\n",
        "\tprint(\"Shapiro: as amostras não seguem distribuição normal\")"
      ]
    }
  ]
}