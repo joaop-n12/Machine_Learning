{
  "nbformat": 4,
  "nbformat_minor": 0,
  "metadata": {
    "colab": {
      "provenance": [],
      "authorship_tag": "ABX9TyOoryeLqHSYUJhS1yMrXcdl",
      "include_colab_link": true
    },
    "kernelspec": {
      "name": "python3",
      "display_name": "Python 3"
    },
    "language_info": {
      "name": "python"
    }
  },
  "cells": [
    {
      "cell_type": "markdown",
      "metadata": {
        "id": "view-in-github",
        "colab_type": "text"
      },
      "source": [
        "<a href=\"https://colab.research.google.com/github/joaop-n12/Machine_Learning/blob/main/aula_01.ipynb\" target=\"_parent\"><img src=\"https://colab.research.google.com/assets/colab-badge.svg\" alt=\"Open In Colab\"/></a>"
      ]
    },
    {
      "cell_type": "code",
      "source": [
        "import numpy as np\n",
        "from scipy import stats\n",
        "\n",
        "paciente1 = [794.1, 716.9, 993, 724.7, 760.9, 908.2, 659.3, 690.8, 768.7, 717.3, 630.7, 729.5, 714.1, 810.3, 583.5, 679.9, 865.1]\n",
        "paciente2 = [976.4, 656.4, 861.2, 706.8, 718.5, 717.1, 759.8, 894.6, 867.6, 805.6, 765.4, 800.3, 789.9, 875.3, 740, 795.2, 823.8, 791.7, 948.5, 791.7, 948.5]\n",
        "\n",
        "alpha = 0.10\n",
        "\n",
        "estatistica_t, p_valor_1 = stats.shapiro(paciente1)\n",
        "estatistica_t, p_valor_2 = stats.shapiro(paciente2)\n",
        "if (p_valor_1 >= alpha and p_valor_2 >= alpha):\n",
        "\tprint(\"Shapiro: ambas amostras seguem distribuição normal\")\n",
        "\n",
        "  # faço teste de Levene com as duas amostras\n",
        "\testatistica_t, p_valor_1 = stats.levene(paciente1, paciente2)\n",
        "\n",
        "  # H0: os dados tem variância igual\n",
        "\t# H1: os dados tem variância diferente\n",
        "\tif (p_valor_1 >= alpha):\n",
        "\t\tprint(\"Levene: tem variância igual\")\n",
        "\n",
        "\t\testatistica_t, p_valor = stats.ttest_ind(paciente1, paciente1)\n",
        "\n",
        "\t\t# modelar o teste de hipóteses\n",
        "\t\t# H0: média1 == média2\n",
        "\t\t# H1: média1 != média2\n",
        "\t\tprint(\"P-valor: \", p_valor)\n",
        "\t\tprint(\"Estatística-t: \", estatistica_t)\n",
        "\n",
        "\t\tif (p_valor < alpha):\n",
        "\t\t\tprint(\"Rejeito H0, as médias são diferentes com significância de 10%\")\n",
        "\t\telse:\n",
        "\t\t\tprint(\"Aceito H0, as médias são iguais com significância de 10%\")\n",
        "\telse:\n",
        "\t\tprint(\"Levene: tem HETEROCEDASTICIDADE\")\n",
        "else:\n",
        "\tprint(\"Shapiro: as amostras não seguem distribuição normal\")"
      ],
      "metadata": {
        "id": "kjjI4FbBMUZ1",
        "colab": {
          "base_uri": "https://localhost:8080/"
        },
        "outputId": "6bd08ad7-d068-4b93-c6b5-3878437bb111"
      },
      "execution_count": null,
      "outputs": [
        {
          "output_type": "stream",
          "name": "stdout",
          "text": [
            "Shapiro: ambas amostras seguem distribuição normal\n",
            "Levene: tem variância igual\n",
            "P-valor:  1.0\n",
            "Estatística-t:  0.0\n",
            "Aceito H0, as médias são iguais com significância de 10%\n"
          ]
        }
      ]
    },
    {
      "cell_type": "code",
      "source": [
        "import numpy as np\n",
        "from scipy import stats\n",
        "\n",
        "# Objetivo: testar se o diâmetro médio das bolas produzidas pela fábrica 1 é igual a fábrica 2\n",
        "\n",
        "# Levene e Shapiro\n",
        "# Teste-t eu tenho que ter 2 condições:\n",
        "\n",
        "# Shapiro\n",
        "# 1. A amostra tem que seguir a distribuição normal\n",
        "\n",
        "# Levene\n",
        "# 2. As amostras (quando tem mais do que 1 amostra) tem que ter a variância igual\n",
        "\n",
        "# Teste de Welch\n",
        "\n",
        "# declarei as minhas amostras\n",
        "amostra_fabrica_1 = [ 9.51182903, 7.19439452, 10.42818857, 8.48623977, 9.95392617, 9.08584036, 7.88828057, 9.13283083, 9.18172261, 7.04365586, 8.57382351, 8.81922503, 6.65734872, 9.14940375, 8.73708844, 9.24066128, 9.99249732, 8.03161223, 10.90146987, 9.35144555, 8.96127198]\n",
        "amostra_fabrica_2 = [11.10428279, 8.64756835, 10.3397984 , 8.89038564, 9.48686728, 10.71393526, 8.54601478, 10.58205223, 8.90051481, 9.54782322, 9.48101232, 9.22949207, 10.29398161, 11.69433187, 10.25764347, 9.06374192, 10.21169767, 9.51190852, 8.83224818, 9.57369906, 10.61416977, 12.06320768, 9.50302557, 8.82285133, 9.15629123]\n",
        "\n",
        "alpha = 0.05\n",
        "\n",
        "# Fiz o teste de Shapiro para testar se as amostras seguem distribuição normal\n",
        "estatistica_t, p_valor_1 = stats.shapiro(amostra_fabrica_1)\n",
        "estatistica_t, p_valor_2 = stats.shapiro(amostra_fabrica_2)\n",
        "\n",
        "# H0: os dados são normais\n",
        "# H1: os dados não são normais\n",
        "\n",
        "# P-Valor de shapiro tem que ser menor que alpha para que a amostra siga distribuição normal\n",
        "if (p_valor_1 >= alpha and p_valor_2 >= alpha):\n",
        "\tprint(\"Shapiro: ambas amostras seguem distribuição normal\")\n",
        "\n",
        "  # faço teste de Levene com as duas amostras\n",
        "\testatistica_t, p_valor_1 = stats.levene(amostra_fabrica_1, amostra_fabrica_2)\n",
        "\n",
        "  # H0: os dados tem variância igual\n",
        "\t# H1: os dados tem variância diferente\n",
        "\tif (p_valor_1 >= alpha):\n",
        "\t\tprint(\"Levene: tem variância igual\")\n",
        "\n",
        "\t\testatistica_t, p_valor = stats.ttest_ind(amostra_fabrica_1, amostra_fabrica_2)\n",
        "\n",
        "\t\t# modelar o teste de hipóteses\n",
        "\t\t# H0: média1 == média2\n",
        "\t\t# H1: média1 != média2\n",
        "\t\tprint(\"P-valor: \", p_valor)\n",
        "\t\tprint(\"Estatística-t: \", estatistica_t)\n",
        "\n",
        "\t\tif (p_valor < alpha):\n",
        "\t\t\tprint(\"Rejeito H0, as médias são diferentes com significância de 5%\")\n",
        "\t\telse:\n",
        "\t\t\tprint(\"Aceito H0, as médias são iguais com significância de 5%\")\n",
        "\telse:\n",
        "\t\tprint(\"Levene: tem HETEROCEDASTICIDADE\")\n",
        "else:\n",
        "\tprint(\"Shapiro: as amostras não seguem distribuição normal\")"
      ],
      "metadata": {
        "colab": {
          "base_uri": "https://localhost:8080/"
        },
        "id": "iS1QsuFzG0NH",
        "outputId": "ca051abf-8893-447f-b69e-61b76740931b"
      },
      "execution_count": null,
      "outputs": [
        {
          "output_type": "stream",
          "name": "stdout",
          "text": [
            "Shapiro: ambas amostras seguem distribuição normal\n",
            "Levene: tem variância igual\n",
            "P-valor:  0.003195513675551823\n",
            "Estatística-t:  -3.1192128425030865\n",
            "Rejeito H0, as médias são diferentes com significância de 5%\n"
          ]
        }
      ]
    }
  ]
}